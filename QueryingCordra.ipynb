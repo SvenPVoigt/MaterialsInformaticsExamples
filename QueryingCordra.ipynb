{
 "cells": [
  {
   "cell_type": "markdown",
   "metadata": {},
   "source": [
    "# Querying Cordra\n",
    "\n",
    "The below examples show how to use CordraPy to query Cordra. Please see the [Cordra Documentation](https://www.cordra.org/documentation/api/search.html) for further explanation on how to compose queries."
   ]
  },
  {
   "cell_type": "code",
   "execution_count": 1,
   "metadata": {},
   "outputs": [],
   "source": [
    "from cordra import CordraClient, Dataset\n",
    "import json\n",
    "\n",
    "jprint = lambda j: print(json.dumps(j, indent=2))\n",
    "\n",
    "host = \"https://dev.materialhub.org/\"\n",
    "credentials_file = \"~/my_cordra_login.json\"\n",
    "\n",
    "materialhub = CordraClient(host=host, credentials_file=credentials_file, verify=False)\n",
    "\n",
    "# Finding your user object\n",
    "r = materialhub.find(\"/username:DrCordra\")\n",
    "\n",
    "me = r['results'][0]\n",
    "my_id = me[\"@id\"]"
   ]
  },
  {
   "cell_type": "code",
   "execution_count": 2,
   "metadata": {},
   "outputs": [],
   "source": [
    "# Adding some objects\n",
    "\n",
    "dataset = Dataset(client=materialhub)\n",
    "\n",
    "for k in dataset.classes.keys():\n",
    "    if k not in {\"User\", \"Group\"}:\n",
    "        dataset.add(k)"
   ]
  },
  {
   "cell_type": "code",
   "execution_count": 3,
   "metadata": {},
   "outputs": [
    {
     "name": "stdout",
     "output_type": "stream",
     "text": [
      "dict_keys(['id', 'type', 'content', 'metadata'])\n",
      "dict_keys(['id', 'type', 'content', 'metadata'])\n",
      "dict_keys(['id', 'type', 'content', 'metadata'])\n",
      "dict_keys(['id', 'type', 'content', 'metadata'])\n",
      "dict_keys(['id', 'type', 'content', 'metadata'])\n",
      "dict_keys(['id', 'type', 'content', 'metadata'])\n",
      "dict_keys(['id', 'type', 'content', 'metadata'])\n",
      "dict_keys(['id', 'type', 'content', 'metadata'])\n",
      "dict_keys(['id', 'type', 'content', 'metadata'])\n",
      "dict_keys(['id', 'type', 'content', 'metadata'])\n",
      "dict_keys(['id', 'type', 'content', 'metadata'])\n",
      "dict_keys(['id', 'type', 'content', 'metadata'])\n",
      "dict_keys(['id', 'type', 'content', 'metadata'])\n",
      "dict_keys(['id', 'type', 'content', 'metadata'])\n",
      "dict_keys(['id', 'type', 'content', 'metadata'])\n",
      "dict_keys(['id', 'type', 'content', 'metadata'])\n",
      "dict_keys(['id', 'type', 'content', 'metadata'])\n",
      "dict_keys(['id', 'type', 'content', 'metadata'])\n",
      "dict_keys(['id', 'type', 'content', 'metadata'])\n",
      "dict_keys(['id', 'type', 'content', 'metadata'])\n",
      "dict_keys(['id', 'type', 'content', 'metadata'])\n",
      "dict_keys(['id', 'type', 'content', 'metadata'])\n",
      "dict_keys(['id', 'type', 'content', 'metadata'])\n",
      "dict_keys(['id', 'type', 'content', 'metadata'])\n",
      "dict_keys(['id', 'type', 'content', 'metadata'])\n"
     ]
    }
   ],
   "source": [
    "# Finding all objects I have created\n",
    "\n",
    "myObjects = materialhub.find(f'/metadata/createdBy:_\"{my_id}\"', full=True)['results']\n",
    "print(\"\\n\".join([str(r.keys()) for r in myObjects]))"
   ]
  },
  {
   "cell_type": "code",
   "execution_count": 4,
   "metadata": {},
   "outputs": [],
   "source": [
    "# Creating a dataset of all objects I have created\n",
    "dataset = Dataset(client=materialhub)\n",
    "\n",
    "for r in myObjects:\n",
    "    dataset.pull(r['id'])\n",
    "    \n",
    "# Remove myself from the set of objects\n",
    "dataset.rem(my_id)"
   ]
  },
  {
   "cell_type": "code",
   "execution_count": 5,
   "metadata": {},
   "outputs": [],
   "source": [
    "# Delete all objects I have created\n",
    "allItems = list( dataset.cordraObjects.values() )\n",
    "for v in allItems:\n",
    "    dataset.deleteFromCordra(v)"
   ]
  },
  {
   "cell_type": "code",
   "execution_count": 6,
   "metadata": {},
   "outputs": [
    {
     "name": "stdout",
     "output_type": "stream",
     "text": [
      "DrCordra\n"
     ]
    }
   ],
   "source": [
    "# Print out all the non-existent objects and myself in Cordra\n",
    "\n",
    "print( materialhub.find(f'/metadata/createdBy:_\"{my_id}\"')['results'][0]['username'] )"
   ]
  },
  {
   "cell_type": "code",
   "execution_count": null,
   "metadata": {},
   "outputs": [],
   "source": []
  }
 ],
 "metadata": {
  "kernelspec": {
   "display_name": "Python 3",
   "language": "python",
   "name": "python3"
  },
  "language_info": {
   "codemirror_mode": {
    "name": "ipython",
    "version": 3
   },
   "file_extension": ".py",
   "mimetype": "text/x-python",
   "name": "python",
   "nbconvert_exporter": "python",
   "pygments_lexer": "ipython3",
   "version": "3.8.5"
  }
 },
 "nbformat": 4,
 "nbformat_minor": 4
}
