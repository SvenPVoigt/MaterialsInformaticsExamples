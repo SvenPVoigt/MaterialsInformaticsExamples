{
 "cells": [
  {
   "cell_type": "code",
   "execution_count": 1,
   "metadata": {},
   "outputs": [],
   "source": [
    "from cordra import CordraClient, CordraObject, Dataset\n",
    "from fastjsonschema import JsonSchemaValueException"
   ]
  },
  {
   "cell_type": "markdown",
   "metadata": {},
   "source": [
    "# CordraObject"
   ]
  },
  {
   "cell_type": "code",
   "execution_count": 2,
   "metadata": {},
   "outputs": [],
   "source": [
    "CordraObject._schema = {\"type\": \"object\", \"properties\": {\"_prefix\": {\"type\": \"string\"}}}\n",
    "\n",
    "try:\n",
    "    CordraObject(properties={\"a\":{}, \"_prefix\":5}).__dict__\n",
    "except JsonSchemaValueException:\n",
    "    print(\"success\")"
   ]
  },
  {
   "cell_type": "code",
   "execution_count": 3,
   "metadata": {},
   "outputs": [],
   "source": [
    "obj1 = CordraObject(properties={\"hi\":\"world\"})\n",
    "obj2 = CordraObject(properties={\"goodbye\":\"rain\"})\n",
    "\n",
    "obj1.properties[\"related\"] = obj2"
   ]
  },
  {
   "cell_type": "code",
   "execution_count": 4,
   "metadata": {},
   "outputs": [
    {
     "data": {
      "text/plain": [
       "'{\"hi\": \"world\", \"related\": null}'"
      ]
     },
     "execution_count": 4,
     "metadata": {},
     "output_type": "execute_result"
    }
   ],
   "source": [
    "obj1.json()"
   ]
  },
  {
   "cell_type": "code",
   "execution_count": 5,
   "metadata": {},
   "outputs": [
    {
     "data": {
      "text/plain": [
       "'{\"hi\": \"world\", \"related\": null}'"
      ]
     },
     "execution_count": 5,
     "metadata": {},
     "output_type": "execute_result"
    }
   ],
   "source": [
    "class Breaks:\n",
    "    pass\n",
    "\n",
    "obj1 = CordraObject(properties={\"hi\":\"world\"})\n",
    "obj2 = Breaks()\n",
    "\n",
    "obj1.properties[\"related\"] = obj2\n",
    "\n",
    "obj1.json()"
   ]
  },
  {
   "cell_type": "code",
   "execution_count": 6,
   "metadata": {},
   "outputs": [
    {
     "data": {
      "text/plain": [
       "'{\"hi\": \"world\"}'"
      ]
     },
     "execution_count": 6,
     "metadata": {},
     "output_type": "execute_result"
    }
   ],
   "source": [
    "from PIL import Image\n",
    "from io import BytesIO\n",
    "\n",
    "stream = BytesIO()\n",
    "A = Image.radial_gradient(\"L\").resize((8,8))\n",
    "A.save(stream, format=\"PNG\")\n",
    "\n",
    "obj1 = CordraObject(properties={\"hi\":\"world\"}, payloads=[stream.getvalue()])\n",
    "\n",
    "obj1.json()"
   ]
  },
  {
   "cell_type": "code",
   "execution_count": 7,
   "metadata": {},
   "outputs": [
    {
     "data": {
      "text/plain": [
       "b'\\x89PNG\\r\\n\\x1a\\n\\x00\\x00\\x00\\rIHDR\\x00\\x00\\x00\\x08\\x00\\x00\\x00\\x08\\x08\\x00\\x00\\x00\\x00\\xe1d\\xe1W\\x00\\x00\\x00LIDATx\\x9c\\x05\\xc11\\n\\x800\\x0c\\x05\\xd0\\xafdQ2T(\\xa4K\\xee\\x7f%\\xc1\\xa1B\\x96v+T\\xba~\\xdf\\xdb\\xde\\xe8\\x13j.Qc\\xf0Z\\x90\\x1eOc\\xe1)s\\xb4\\x9b\\xc8s\\x07I\\x10\\x10M\\x05,I\\xc5\\x162\\x92\\x9b8\\x8e\\x0fj\\xfe\\x03\\x1c\\xe0\\x1d\\x10\\xa3\\x03\\x92e\\x00\\x00\\x00\\x00IEND\\xaeB`\\x82'"
      ]
     },
     "execution_count": 7,
     "metadata": {},
     "output_type": "execute_result"
    }
   ],
   "source": [
    "obj1.payloads = stream.getvalue()\n",
    "\n",
    "obj1.payloads"
   ]
  },
  {
   "cell_type": "code",
   "execution_count": 8,
   "metadata": {},
   "outputs": [
    {
     "data": {
      "text/plain": [
       "'{\"hi\": \"world\"}'"
      ]
     },
     "execution_count": 8,
     "metadata": {},
     "output_type": "execute_result"
    }
   ],
   "source": [
    "obj1.somethingElse = 5\n",
    "obj1.json()"
   ]
  },
  {
   "cell_type": "markdown",
   "metadata": {},
   "source": [
    "# Dataset"
   ]
  },
  {
   "cell_type": "code",
   "execution_count": 9,
   "metadata": {
    "scrolled": true
   },
   "outputs": [
    {
     "data": {
      "text/plain": [
       "{'ProcessProtocol': cordra.dataset.ProcessProtocol,\n",
       " 'ProcessHistory': cordra.dataset.ProcessHistory,\n",
       " 'MaterialPerformance': cordra.dataset.MaterialPerformance,\n",
       " 'Material': cordra.dataset.Material,\n",
       " 'Place': cordra.dataset.Place,\n",
       " 'SoftwareApplication': cordra.dataset.SoftwareApplication,\n",
       " 'Collection': cordra.dataset.Collection,\n",
       " 'Citation': cordra.dataset.Citation,\n",
       " 'Project': cordra.dataset.Project,\n",
       " 'Action': cordra.dataset.Action,\n",
       " 'Study': cordra.dataset.Study,\n",
       " 'Dataset': cordra.dataset.Dataset,\n",
       " 'MaterialProperty': cordra.dataset.MaterialProperty,\n",
       " 'DefinedTermSet': cordra.dataset.DefinedTermSet,\n",
       " 'Document': cordra.dataset.Document,\n",
       " 'DefinedTerm': cordra.dataset.DefinedTerm,\n",
       " 'MaterialStructure': cordra.dataset.MaterialStructure,\n",
       " 'File': cordra.dataset.File,\n",
       " 'Instrument': cordra.dataset.Instrument,\n",
       " 'User': cordra.dataset.User,\n",
       " 'Experiment': cordra.dataset.Experiment,\n",
       " 'Group': cordra.dataset.Group,\n",
       " 'Organization': cordra.dataset.Organization,\n",
       " 'Person': cordra.dataset.Person,\n",
       " 'UnitOfMeasurement': cordra.dataset.UnitOfMeasurement,\n",
       " 'Form': cordra.dataset.Form}"
      ]
     },
     "execution_count": 9,
     "metadata": {},
     "output_type": "execute_result"
    }
   ],
   "source": [
    "host = \"https://dev.materialhub.org/\"\n",
    "credentials_file = \"~/test_user_cordra.json\"\n",
    "\n",
    "materialhub = CordraClient(host=host, credentials_file=credentials_file, verify=False)\n",
    "\n",
    "dataset = Dataset(client=materialhub)\n",
    "\n",
    "dataset.classes"
   ]
  },
  {
   "cell_type": "code",
   "execution_count": 10,
   "metadata": {},
   "outputs": [
    {
     "data": {
      "text/plain": [
       "{}"
      ]
     },
     "execution_count": 10,
     "metadata": {},
     "output_type": "execute_result"
    }
   ],
   "source": [
    "p1 = dataset.add('Person')\n",
    "dataset.rem(p1)"
   ]
  },
  {
   "cell_type": "code",
   "execution_count": 11,
   "metadata": {},
   "outputs": [
    {
     "data": {
      "text/plain": [
       "{}"
      ]
     },
     "execution_count": 11,
     "metadata": {},
     "output_type": "execute_result"
    }
   ],
   "source": [
    "p2 = dataset.add('Person', properties={\"name\": \"testperson\"})\n",
    "p2.properties[\"address\"] = \"Main St\"\n",
    "dataset.sync()\n",
    "\n",
    "p2_clone = dataset.pull(p2.properties[\"@id\"])\n",
    "\n",
    "assert p2.properties == p2_clone.properties\n",
    "\n",
    "dataset.rem(p2)"
   ]
  },
  {
   "cell_type": "code",
   "execution_count": 12,
   "metadata": {},
   "outputs": [],
   "source": [
    "p3 = dataset.add('Person', properties={}, payloads={\"img\": stream.getvalue()})"
   ]
  },
  {
   "cell_type": "code",
   "execution_count": 13,
   "metadata": {},
   "outputs": [],
   "source": [
    "p3_clone = dataset.pull(p3.properties[\"@id\"])"
   ]
  },
  {
   "cell_type": "code",
   "execution_count": 14,
   "metadata": {},
   "outputs": [
    {
     "data": {
      "text/plain": [
       "{'img': b'\\x89PNG\\r\\n\\x1a\\n\\x00\\x00\\x00\\rIHDR\\x00\\x00\\x00\\x08\\x00\\x00\\x00\\x08\\x08\\x00\\x00\\x00\\x00\\xe1d\\xe1W\\x00\\x00\\x00LIDATx\\x9c\\x05\\xc11\\n\\x800\\x0c\\x05\\xd0\\xafdQ2T(\\xa4K\\xee\\x7f%\\xc1\\xa1B\\x96v+T\\xba~\\xdf\\xdb\\xde\\xe8\\x13j.Qc\\xf0Z\\x90\\x1eOc\\xe1)s\\xb4\\x9b\\xc8s\\x07I\\x10\\x10M\\x05,I\\xc5\\x162\\x92\\x9b8\\x8e\\x0fj\\xfe\\x03\\x1c\\xe0\\x1d\\x10\\xa3\\x03\\x92e\\x00\\x00\\x00\\x00IEND\\xaeB`\\x82'}"
      ]
     },
     "execution_count": 14,
     "metadata": {},
     "output_type": "execute_result"
    }
   ],
   "source": [
    "p3.payloads"
   ]
  },
  {
   "cell_type": "code",
   "execution_count": 15,
   "metadata": {},
   "outputs": [
    {
     "data": {
      "image/png": "[encoded data removed]",
      "text/plain": [
       "<PIL.PngImagePlugin.PngImageFile image mode=L size=8x8 at 0x7F349B911520>"
      ]
     },
     "execution_count": 15,
     "metadata": {},
     "output_type": "execute_result"
    }
   ],
   "source": [
    "from PIL import Image\n",
    "from io import BytesIO\n",
    "\n",
    "Image.open(BytesIO(p3.payloads['img']))"
   ]
  },
  {
   "cell_type": "code",
   "execution_count": null,
   "metadata": {},
   "outputs": [],
   "source": []
  }
 ],
 "metadata": {
  "kernelspec": {
   "display_name": "Python 3",
   "language": "python",
   "name": "python3"
  },
  "language_info": {
   "codemirror_mode": {
    "name": "ipython",
    "version": 3
   },
   "file_extension": ".py",
   "mimetype": "text/x-python",
   "name": "python",
   "nbconvert_exporter": "python",
   "pygments_lexer": "ipython3",
   "version": "3.8.5"
  }
 },
 "nbformat": 4,
 "nbformat_minor": 4
}
